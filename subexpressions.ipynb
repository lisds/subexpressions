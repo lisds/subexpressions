{
 "cells": [
  {
   "cell_type": "markdown",
   "id": "f4f385b9",
   "metadata": {},
   "source": [
    "# Decoding expressions"
   ]
  },
  {
   "cell_type": "markdown",
   "id": "f292a910",
   "metadata": {},
   "source": [
    "## About this exercise\n",
    "\n",
    "This exercise is a highly edited version of part of a homework from [the\n",
    "Berkeley data science course](https://github.com/data-8/data8assets) with\n",
    "thanks.  If you make a new version of this original, please note that this\n",
    "exercise has a [CC-BY-NC\n",
    "license](http://creativecommons.org/licenses/by-nc/4.0/); remember to give\n",
    "attribution to the original authors from the repository above."
   ]
  },
  {
   "cell_type": "markdown",
   "id": "5178c10e",
   "metadata": {},
   "source": [
    "## Getting started\n",
    "\n",
    "This is an OKpy exercise.  Run the cell below to prepare OKpy to give you\n",
    "feedback as you work through the exercise."
   ]
  },
  {
   "cell_type": "code",
   "execution_count": null,
   "id": "6bce7a1d",
   "metadata": {},
   "outputs": [],
   "source": [
    "# Run this cell to set up the notebook, but please don't change it.\n",
    "# These lines load the tests.\n",
    "from client.api.notebook import Notebook\n",
    "ok = Notebook('subexpressions.ok')"
   ]
  },
  {
   "cell_type": "markdown",
   "id": "ea660b71",
   "metadata": {},
   "source": [
    "## The tests won't tell you if your answer is correct\n",
    "\n",
    "**Please be careful**.  This is a graded exercise — and the tests here will\n",
    "only show you *if you are on the right track*.  They (usually) will not tell\n",
    "you if you have the right answer or not.  That means that all your tests could\n",
    "pass here, but you could still get a low mark when we mark the exercise using\n",
    "the full set of tests we have kept in reserve.  So, think carefully about your\n",
    "answers, even if the provisional tests here all pass."
   ]
  },
  {
   "cell_type": "markdown",
   "id": "8b799fb7",
   "metadata": {},
   "source": [
    "## Breaking down expressions"
   ]
  },
  {
   "cell_type": "markdown",
   "id": "91f645d4",
   "metadata": {},
   "source": [
    "A central idea in Computer Science is that complicated, useful things can be\n",
    "built by putting together simple parts according to simple rules. Python code\n",
    "is an important example of this principle. Once you understand the basic rules,\n",
    "you can code with confidence. These exercises are designed to give you some\n",
    "practice with those rules."
   ]
  },
  {
   "cell_type": "markdown",
   "id": "5900b934",
   "metadata": {},
   "source": [
    "First make sure you have read and understood the\n",
    "[sub-expressions page](https://lisds.github.io/textbook/code-basics/sub_expressions) in the textbook.\n",
    "\n",
    "**Question 1.** Look at the expression below.\n",
    "\n",
    "`55 + 92`\n",
    "\n",
    "Which of the following are subexpressions of the expression above?\n",
    "\n",
    "1. `92`\n",
    "2. `55 + 92`\n",
    "\n",
    "Choose the *number* corresponding to the correct answer, and set the variable\n",
    "below to have that value.  For example, if you think 1 is the correct answer,\n",
    "you would set `q1 = 1` below."
   ]
  },
  {
   "cell_type": "code",
   "execution_count": null,
   "id": "e7d651ff",
   "metadata": {},
   "outputs": [],
   "source": [
    "q1 = ..."
   ]
  },
  {
   "cell_type": "markdown",
   "id": "db70c986",
   "metadata": {},
   "source": [
    "Check your answer here."
   ]
  },
  {
   "cell_type": "code",
   "execution_count": null,
   "id": "f1f5c7c1",
   "metadata": {},
   "outputs": [],
   "source": [
    "_ = ok.grade('q_q1')"
   ]
  },
  {
   "cell_type": "markdown",
   "id": "b64b031b",
   "metadata": {},
   "source": [
    "**Question 2.**  Expressions with variables.\n",
    "\n",
    "Let us say that I have defined two variables, like this:"
   ]
  },
  {
   "cell_type": "code",
   "execution_count": null,
   "id": "b2881296",
   "metadata": {},
   "outputs": [],
   "source": [
    "a = 10\n",
    "b = 5"
   ]
  },
  {
   "cell_type": "markdown",
   "id": "c3ebba64",
   "metadata": {},
   "source": [
    "Now consider this expression.\n",
    "\n",
    "`(a + 3) / b`\n",
    "\n",
    "Which of the following is *not* true of the expression above?\n",
    "\n",
    "1. `a` is a sub-expression (of this expression).\n",
    "2. `3` is a sub-expression.\n",
    "3. `3 / b` is sub-expression.\n",
    "4. `a + 3` is a sub-expression.\n",
    "5. There are four sub-expressions in total.\n",
    "6. `b` is a sub-expression.\n",
    "\n",
    "In the next cell, set your answer - e.g. `q2 = 2`.  Remember."
   ]
  },
  {
   "cell_type": "code",
   "execution_count": null,
   "id": "ad4694bc",
   "metadata": {},
   "outputs": [],
   "source": [
    "q2 = ..."
   ]
  },
  {
   "cell_type": "code",
   "execution_count": null,
   "id": "b91eb180",
   "metadata": {},
   "outputs": [],
   "source": [
    "_ = ok.grade('q_q2')"
   ]
  },
  {
   "cell_type": "markdown",
   "id": "ae732e9f",
   "metadata": {},
   "source": [
    "**Question 3.**  Consider the sub-expressions of the following expression.\n",
    "\n",
    "`a + 5 * b`\n",
    "\n",
    "Here is a list of almost all the sub-expressions of that expression.  One is\n",
    "missing.\n",
    "\n",
    "* `a`\n",
    "* `5`\n",
    "* `b`\n",
    "\n",
    "Which of the following is the missing sub-expression?\n",
    "\n",
    "1. `a + 5`\n",
    "2. `5 * b`\n",
    "3. `a + 5 * b`"
   ]
  },
  {
   "cell_type": "code",
   "execution_count": null,
   "id": "8587f910",
   "metadata": {},
   "outputs": [],
   "source": [
    "q3 = ..."
   ]
  },
  {
   "cell_type": "code",
   "execution_count": null,
   "id": "53d6ec77",
   "metadata": {},
   "outputs": [],
   "source": [
    "_ = ok.grade('q_q3')"
   ]
  },
  {
   "cell_type": "markdown",
   "id": "e6726fa4",
   "metadata": {},
   "source": [
    "**Question 4.** Consider the following expression:\n",
    "\n",
    "`(1 + 2) * ((3 / 4) ** 5)`\n",
    "\n",
    "Here is a list of some sub-expressions of that expression.\n",
    "\n",
    "* `1`\n",
    "* `2`\n",
    "* `3`\n",
    "* `4`\n",
    "* `5`\n",
    "* `(1 + 2)`\n",
    "* `((3 / 4) ** 5)`\n",
    "\n",
    "How many sub-expressions are missing from this list?\n",
    "\n",
    "1. One.\n",
    "2. Two.\n",
    "3. Three.\n",
    "4. None.\n",
    "\n",
    "Choose your answer by setting the variable below."
   ]
  },
  {
   "cell_type": "code",
   "execution_count": null,
   "id": "a7f5a2f3",
   "metadata": {},
   "outputs": [],
   "source": [
    "q4 = ..."
   ]
  },
  {
   "cell_type": "code",
   "execution_count": null,
   "id": "33b254af",
   "metadata": {},
   "outputs": [],
   "source": [
    "_ = ok.grade('q_q4')"
   ]
  },
  {
   "cell_type": "markdown",
   "id": "cf5bee43",
   "metadata": {},
   "source": [
    "**Question 5.** List all the sub-expressions of the following expression:\n",
    "\n",
    "`(((2 ** 3) / 4) / 5) - 6`\n",
    "\n",
    "Put each sub-expression on its own line in the next cell.\n",
    "\n",
    "*Hint* - there are eight of them."
   ]
  },
  {
   "cell_type": "markdown",
   "id": "d9b87c3d",
   "metadata": {
    "manual_grade": true,
    "manual_problem_id": "expr_list"
   },
   "source": [
    "\n",
    "```{python}\n",
    "#- Fill in your sub-expressions here.  Put one sub-expression per line.\n",
    "#- If the thing you have entered is a valid sub-expression, it will\n",
    "#- evaluate without causing an error. So, you should have 8 lines below.\n",
    "#- and, when you run the cell, there should be no error.\n",
    "...\n",
    "...\n",
    "...\n",
    "...\n",
    "...\n",
    "...\n",
    "...\n",
    "...\n",
    "```\n"
   ]
  },
  {
   "cell_type": "markdown",
   "id": "0bf4ad20",
   "metadata": {},
   "source": [
    "We will grade this question by hand, so there are no tests for this one!"
   ]
  },
  {
   "cell_type": "markdown",
   "id": "8834ee29",
   "metadata": {},
   "source": [
    "**Question 7.**.  Where are the variables now?\n",
    "\n",
    "Consider the following cell.  Execute it, to show the value of y."
   ]
  },
  {
   "cell_type": "code",
   "execution_count": null,
   "id": "51216115",
   "metadata": {},
   "outputs": [],
   "source": [
    "x = 10\n",
    "y = x * 3\n",
    "x = 100\n",
    "y"
   ]
  },
  {
   "cell_type": "markdown",
   "id": "1ccfbc07",
   "metadata": {},
   "source": [
    "Why is `y` equal to 30, and not 300?  Explain in the text cell below.\n",
    "(Remember, double-click the cell to edit it, and then press shift-enter when\n",
    "you're done.)\n"
   ]
  },
  {
   "cell_type": "markdown",
   "id": "8b9f1766",
   "metadata": {
    "lines_to_next_cell": 2,
    "manual_grade": true,
    "manual_problem_id": "why_y"
   },
   "source": [
    "*Write your answer here, replacing this text.*"
   ]
  },
  {
   "cell_type": "markdown",
   "id": "a968d0ce",
   "metadata": {},
   "source": [
    "## Errors in Naming"
   ]
  },
  {
   "cell_type": "markdown",
   "id": "5cb4b8c7",
   "metadata": {},
   "source": [
    "**Question 1.** When you run the following cell, Python will produce a\n",
    "slightly cryptic error message.  Explain in the text cell below, in your own\n",
    "words, what's wrong with the code."
   ]
  },
  {
   "cell_type": "code",
   "execution_count": null,
   "id": "801c73b9",
   "metadata": {
    "tags": [
     "raises-exception"
    ]
   },
   "outputs": [],
   "source": [
    "8 = 4 + 4"
   ]
  },
  {
   "cell_type": "markdown",
   "id": "b364ffa2",
   "metadata": {
    "lines_to_next_cell": 2,
    "manual_grade": true,
    "manual_problem_id": "eight_eq"
   },
   "source": [
    "*Write your answer here, replacing this text.*"
   ]
  },
  {
   "cell_type": "markdown",
   "id": "9096f66b",
   "metadata": {},
   "source": [
    "**Question 2**. When you run the following cell, Python will produce another\n",
    "slightly cryptic error message. Fix the error, and then explain below in your\n",
    "own words what was wrong with the code."
   ]
  },
  {
   "cell_type": "code",
   "execution_count": null,
   "id": "10784161",
   "metadata": {
    "tags": [
     "raises-exception"
    ]
   },
   "outputs": [],
   "source": [
    "two = 2\n",
    "four = two plus two"
   ]
  },
  {
   "cell_type": "code",
   "execution_count": null,
   "id": "8b2359fd",
   "metadata": {},
   "outputs": [],
   "source": [
    "_ = ok.grade('q3_2')"
   ]
  },
  {
   "cell_type": "markdown",
   "id": "c08c1c13",
   "metadata": {
    "manual_grade": true,
    "manual_problem_id": "two_plus_two"
   },
   "source": [
    "*Write your answer here, replacing this text.*"
   ]
  },
  {
   "cell_type": "code",
   "execution_count": null,
   "id": "954aaaa8",
   "metadata": {},
   "outputs": [],
   "source": [
    "# For your convenience, you can run this cell to run all the tests at once!\n",
    "import os\n",
    "_ = [ok.grade(q[:-3]) for q in os.listdir(\"tests\") if q.startswith('q')]"
   ]
  },
  {
   "cell_type": "markdown",
   "id": "b9dbc122",
   "metadata": {},
   "source": [
    "## Notes\n",
    "\n",
    "Partly from [the Berkeley course\n",
    "materials](https://github.com/data-8/data8assets) with thanks."
   ]
  }
 ],
 "metadata": {
  "jupytext": {
   "cell_metadata_json": true,
   "text_representation": {
    "extension": ".Rmd",
    "format_name": "rmarkdown",
    "format_version": "1.2",
    "jupytext_version": "1.10.3"
   }
  },
  "kernelspec": {
   "display_name": "Python 3 (ipykernel)",
   "language": "python",
   "name": "python3"
  }
 },
 "nbformat": 4,
 "nbformat_minor": 5
}
